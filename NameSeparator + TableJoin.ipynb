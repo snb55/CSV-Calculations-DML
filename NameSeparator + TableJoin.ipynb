{
 "cells": [
  {
   "cell_type": "code",
   "execution_count": 9,
   "id": "ea1ff311",
   "metadata": {},
   "outputs": [
    {
     "name": "stderr",
     "output_type": "stream",
     "text": [
      "C:\\Users\\edwar\\AppData\\Local\\Temp\\ipykernel_41256\\1972946645.py:9: FutureWarning: In a future version of pandas all arguments of StringMethods.split except for the argument 'pat' will be keyword-only.\n",
      "  df[['First Name', 'Last Name']] = df['First Name'].str.split(' ', 1, expand=True)\n"
     ]
    }
   ],
   "source": []
  },
  {
   "cell_type": "code",
   "execution_count": 10,
   "id": "cfb692a2",
   "metadata": {},
   "outputs": [],
   "source": [
    "import pandas as pd\n",
    "import warnings\n",
    "\n",
    "# Read the Excel file\n",
    "df = pd.read_excel('PMContactInfo.xlsx')\n",
    "\n",
    "# Suppress the FutureWarning\n",
    "warnings.filterwarnings(\"ignore\", category=FutureWarning)\n",
    "\n",
    "# Extract first and last names\n",
    "df[['First Name', 'Last Name']] = df['First Name'].str.split(' ', 1, expand=True)\n",
    "\n",
    "# Save the modified dataframe to a new Excel file\n",
    "df.to_excel('output_file.xlsx', index=False)\n"
   ]
  },
  {
   "cell_type": "code",
   "execution_count": 34,
   "id": "673d0431",
   "metadata": {
    "scrolled": true
   },
   "outputs": [
    {
     "name": "stdout",
     "output_type": "stream",
     "text": [
      "     ID First Name Last Name  Email Address  Phone Number  \\\n",
      "0     1       Sean       Pan            NaN           NaN   \n",
      "1     2        Bin       Han            NaN           NaN   \n",
      "2     3      Aaron   Sanders            NaN           NaN   \n",
      "3     4       Eric   Pradier            NaN           NaN   \n",
      "4     5       Marc    Banker            NaN           NaN   \n",
      "..  ...        ...       ...            ...           ...   \n",
      "95   96        NaN       NaN            NaN           NaN   \n",
      "96   97        NaN       NaN            NaN           NaN   \n",
      "97   98        NaN       NaN            NaN           NaN   \n",
      "98   99        NaN       NaN            NaN           NaN   \n",
      "99  100        NaN       NaN            NaN           NaN   \n",
      "\n",
      "             Strategy_x  Sub Strategy Sub Strategy 2 Geography Geography 2  \\\n",
      "0                   NaN           NaN            NaN       NaN         NaN   \n",
      "1                   NaN           NaN            NaN       NaN         NaN   \n",
      "2        Discretionary         Credit            NaN        US         NaN   \n",
      "3   Hybrid/Quantamental        Credit       Rates/FX        US      Europe   \n",
      "4        Relative Value  Fixed Income            NaN       NaN         NaN   \n",
      "..                  ...           ...            ...       ...         ...   \n",
      "95                  NaN           NaN            NaN       NaN         NaN   \n",
      "96                  NaN           NaN            NaN       NaN         NaN   \n",
      "97                  NaN           NaN            NaN       NaN         NaN   \n",
      "98                  NaN           NaN            NaN       NaN         NaN   \n",
      "99                  NaN           NaN            NaN       NaN         NaN   \n",
      "\n",
      "    ...      Employer      Strategy_y  Brief description  Internal/External_y  \\\n",
      "0   ...           NaN             NaN                NaN                  NaN   \n",
      "1   ...           NaN             NaN                NaN                  NaN   \n",
      "2   ...  Exodus Point          Credit   Credit Arbitrage             Internal   \n",
      "3   ...           MLP  Relative Value          Rates Vol             Internal   \n",
      "4   ...           JPM  Relative Value           Rates RV             Internal   \n",
      "..  ...           ...             ...                ...                  ...   \n",
      "95  ...           NaN             NaN                NaN                  NaN   \n",
      "96  ...           NaN             NaN                NaN                  NaN   \n",
      "97  ...           NaN             NaN                NaN                  NaN   \n",
      "98  ...           NaN             NaN                NaN                  NaN   \n",
      "99  ...           NaN             NaN                NaN                  NaN   \n",
      "\n",
      "    1=High    Source_y  Stage_y  \\\n",
      "0      NaN         NaN      NaN   \n",
      "1      NaN         NaN      NaN   \n",
      "2      NaN         JPM     Pass   \n",
      "3      3.0  Carrington     Pass   \n",
      "4      3.0         JPM     Pass   \n",
      "..     ...         ...      ...   \n",
      "95     NaN         NaN      NaN   \n",
      "96     NaN         NaN      NaN   \n",
      "97     NaN         NaN      NaN   \n",
      "98     NaN         NaN      NaN   \n",
      "99     NaN         NaN      NaN   \n",
      "\n",
      "                                         Next Steps_y Count       Work Due:_y  \n",
      "0                                                 NaN   NaN               NaN  \n",
      "1                                                 NaN   NaN               NaN  \n",
      "2                             Most likely not day one   1.0               NaN  \n",
      "3   Too large of a GMV most likely - Element givin...   1.0  Need 2 write ups  \n",
      "4   Rates sales -  prop or commercial - Pass for D...   1.0               NaN  \n",
      "..                                                ...   ...               ...  \n",
      "95                                                NaN   NaN               NaN  \n",
      "96                                                NaN   NaN               NaN  \n",
      "97                                                NaN   NaN               NaN  \n",
      "98                                                NaN   NaN               NaN  \n",
      "99                                                NaN   NaN               NaN  \n",
      "\n",
      "[100 rows x 29 columns]\n"
     ]
    }
   ],
   "source": [
    "import pandas as pd\n",
    "import warnings\n",
    "\n",
    "# Read the Excel file\n",
    "dfCI = pd.read_excel('PMContactInfo.xlsx')\n",
    "dfTO= pd.read_excel('T_O.xlsx')\n",
    "\n",
    "# Suppress the FutureWarning\n",
    "warnings.filterwarnings(\"ignore\", category=FutureWarning)\n",
    "\n",
    "# Extract first and last names from full_name.xlsx\n",
    "dfTO[['First Name', 'Last Name']] = dfTO[dfTO.columns[0]].str.split(' ', 1, expand=True)\n",
    "\n",
    "#Left Join Them\n",
    "df_merged=pd.merge(dfCI, dfTO, on=['First Name', 'Last Name'], how='left')\n",
    "\n",
    "print(df_merged)\n",
    "\n",
    "#export\n",
    "df_merged.to_excel('merged_data.xlsx', index=False)\n",
    "               \n"
   ]
  },
  {
   "cell_type": "code",
   "execution_count": null,
   "id": "feb53834",
   "metadata": {},
   "outputs": [],
   "source": [
    "\n"
   ]
  }
 ],
 "metadata": {
  "kernelspec": {
   "display_name": "Python 3 (ipykernel)",
   "language": "python",
   "name": "python3"
  },
  "language_info": {
   "codemirror_mode": {
    "name": "ipython",
    "version": 3
   },
   "file_extension": ".py",
   "mimetype": "text/x-python",
   "name": "python",
   "nbconvert_exporter": "python",
   "pygments_lexer": "ipython3",
   "version": "3.10.9"
  }
 },
 "nbformat": 4,
 "nbformat_minor": 5
}
