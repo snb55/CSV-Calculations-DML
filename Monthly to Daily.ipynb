{
 "cells": [
  {
   "cell_type": "code",
   "execution_count": 1,
   "id": "54200e45",
   "metadata": {},
   "outputs": [
    {
     "name": "stdout",
     "output_type": "stream",
     "text": [
      "            Monthly Returns\n",
      "Date                       \n",
      "2018-05-31             0.00\n",
      "2018-06-30             0.00\n",
      "2018-07-31            -0.05\n",
      "2018-08-31            -0.14\n",
      "2018-09-30            -1.29\n",
      "2018-10-31             0.65\n",
      "2018-11-30             0.55\n",
      "2018-12-31             1.93\n",
      "2019-01-31             0.27\n",
      "2019-02-28             0.53\n",
      "2019-03-31            -0.32\n",
      "2019-04-30             0.21\n",
      "2019-05-31             1.95\n",
      "2019-06-30            -0.43\n",
      "2019-07-31            -0.89\n",
      "2019-08-31            -2.15\n",
      "2019-09-30             0.54\n",
      "2019-10-31             0.97\n",
      "2019-11-30             2.02\n",
      "2019-12-31             2.89\n",
      "2020-01-31             0.77\n",
      "2020-02-29            -1.70\n",
      "2020-03-31            -2.46\n",
      "2020-04-30             1.12\n",
      "2020-05-31             0.00\n",
      "2020-06-30             1.76\n",
      "2020-07-31             0.35\n",
      "2020-08-31             5.62\n",
      "2020-09-30             1.94\n",
      "2020-10-31            -0.17\n",
      "2020-11-30             0.89\n",
      "2020-12-31             1.80\n",
      "2021-01-31             0.67\n",
      "2021-02-28            -0.01\n",
      "2021-03-31             0.70\n",
      "2021-04-30             1.12\n",
      "2021-05-31             5.90\n",
      "2021-06-30             3.00\n",
      "2021-07-31            -0.47\n",
      "2021-08-31             1.08\n",
      "2021-09-30            -0.41\n",
      "2021-10-31             1.64\n",
      "2021-11-30             6.26\n",
      "2021-12-31             0.09\n"
     ]
    }
   ],
   "source": [
    "import pandas as pd\n",
    "\n",
    "df = pd.read_csv('GeorgeAzarias=MLPHistorical.csv')\n",
    "\n",
    "# Convert the 'Date' column to a datetime column\n",
    "df['Date'] = pd.to_datetime(df['Date'])\n",
    "\n",
    "# Remove percentage symbols and convert the 'Return' column to numeric data type\n",
    "df['Return'] = df['Return'].str.replace(',', '').str.rstrip('%').astype(float)\n",
    "\n",
    "# Set the 'Date' column as the index of the DataFrame\n",
    "df.set_index('Date', inplace=True)\n",
    "\n",
    "# Resample the daily returns to monthly returns using the OFFSET logic\n",
    "monthly_returns = df['Return'].resample('M').sum()\n",
    "\n",
    "# Create a new DataFrame with the monthly returns\n",
    "monthly_df = pd.DataFrame({'Monthly Returns': monthly_returns})\n",
    "\n",
    "# Print the monthly returns DataFrame\n",
    "print(monthly_df)\n"
   ]
  },
  {
   "cell_type": "code",
   "execution_count": 2,
   "id": "2677bcda",
   "metadata": {},
   "outputs": [
    {
     "name": "stdout",
     "output_type": "stream",
     "text": [
      "Monthly returns exported to monthly_returns.csv\n"
     ]
    }
   ],
   "source": [
    "# Export the monthly returns DataFrame to a CSV file\n",
    "monthly_df.to_csv('GeorgeAzarias-monthly_returns.csv', index=True)\n",
    "\n",
    "print(\"Monthly returns exported to monthly_returns.csv\")"
   ]
  },
  {
   "cell_type": "code",
   "execution_count": null,
   "id": "d7cfbd63",
   "metadata": {},
   "outputs": [],
   "source": []
  }
 ],
 "metadata": {
  "kernelspec": {
   "display_name": "Python 3 (ipykernel)",
   "language": "python",
   "name": "python3"
  },
  "language_info": {
   "codemirror_mode": {
    "name": "ipython",
    "version": 3
   },
   "file_extension": ".py",
   "mimetype": "text/x-python",
   "name": "python",
   "nbconvert_exporter": "python",
   "pygments_lexer": "ipython3",
   "version": "3.10.9"
  }
 },
 "nbformat": 4,
 "nbformat_minor": 5
}
